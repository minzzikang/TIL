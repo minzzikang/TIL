{
 "cells": [
  {
   "cell_type": "markdown",
   "metadata": {},
   "source": [
    "### 파이썬 기초\n",
    "\n",
    "1. 저장\n",
    "  - 변수에 number, string(\"\"), boolean(조건문, 반복문에 사용) 저장 가능\n",
    "  - dictionary : 이름표를 단 여러 개의 값 저장 가능 (key값 중복X)\n",
    "\n",
    "2. 조건문\n",
    "  \n",
    "3. 반복문 (while / for)\n",
    "  - while : 조건이 True인 동안 반복 실행되기 때문에 ***종료 조건*** 반드시 필요\n",
    "  - for : 정해진 범위만 반복해서 종료 조건 필요 x \n",
    "\n",
    "4. 모듈 사용\n",
    "  - 함수 포함된 파일 불러와서 사용 (import)\n",
    "    ex. random 모듈"
   ]
  },
  {
   "cell_type": "code",
   "execution_count": 37,
   "metadata": {},
   "outputs": [
    {
     "name": "stdout",
     "output_type": "stream",
     "text": [
      "지코바치밥\n",
      "[2, 7, 3]\n"
     ]
    }
   ],
   "source": [
    "import random\n",
    "\n",
    "lunch = [\"돼지불백\", \"설렁탕\", \"지코바치밥\"]\n",
    "\n",
    "print(random.choice(lunch)) # 리스트에서 랜덤으로 선택하는 모듈\n",
    "\n",
    "numbers = [1, 2, 3, 4, 5, 6, 7, 8, 9]\n",
    "pick = random.sample(numbers, 3) # 리스트에서 3개 무작위로 뽑는 모듈\n",
    "print(pick)"
   ]
  },
  {
   "cell_type": "code",
   "execution_count": null,
   "metadata": {},
   "outputs": [],
   "source": [
    "# while\n",
    "n = 0\n",
    "\n",
    "while n < 5:\n",
    "    print(n)\n",
    "    n += 1"
   ]
  },
  {
   "cell_type": "code",
   "execution_count": 39,
   "metadata": {},
   "outputs": [
    {
     "name": "stdout",
     "output_type": "stream",
     "text": [
      "돼지불백\n",
      "설렁탕\n",
      "지코바치밥\n"
     ]
    }
   ],
   "source": [
    "# for\n",
    "lunch = [\"돼지불백\", \"설렁탕\", \"지코바치밥\"]\n",
    "\n",
    "for i in lunch:\n",
    "    print(i)"
   ]
  }
 ],
 "metadata": {
  "kernelspec": {
   "display_name": "Python 3",
   "language": "python",
   "name": "python3"
  },
  "language_info": {
   "codemirror_mode": {
    "name": "ipython",
    "version": 3
   },
   "file_extension": ".py",
   "mimetype": "text/x-python",
   "name": "python",
   "nbconvert_exporter": "python",
   "pygments_lexer": "ipython3",
   "version": "3.9.13"
  },
  "orig_nbformat": 4
 },
 "nbformat": 4,
 "nbformat_minor": 2
}
